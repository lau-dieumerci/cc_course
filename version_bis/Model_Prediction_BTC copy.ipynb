{
  "cells": [
    {
      "cell_type": "code",
      "execution_count": 1,
      "metadata": {
        "colab": {
          "background_save": true
        },
        "id": "uCI89PIWxSmD"
      },
      "outputs": [
        {
          "name": "stdout",
          "output_type": "stream",
          "text": [
            "WARNING:tensorflow:From c:\\Users\\Dieu-merci LAU\\AppData\\Local\\Programs\\Python\\Python311\\Lib\\site-packages\\keras\\src\\losses.py:2976: The name tf.losses.sparse_softmax_cross_entropy is deprecated. Please use tf.compat.v1.losses.sparse_softmax_cross_entropy instead.\n",
            "\n"
          ]
        }
      ],
      "source": [
        "import json\n",
        "import requests\n",
        "from keras.models import Sequential\n",
        "from keras.layers import Activation, Dense, Dropout, LSTM\n",
        "import matplotlib.pyplot as plt\n",
        "import numpy as np\n",
        "import pandas as pd\n",
        "import seaborn as sns\n",
        "from sklearn.metrics import mean_absolute_error\n",
        "import tensorflow as tf\n",
        "from sklearn.model_selection import train_test_split\n",
        "import plotly\n",
        "from sklearn.preprocessing import StandardScaler, MinMaxScaler"
      ]
    },
    {
      "cell_type": "code",
      "execution_count": 2,
      "metadata": {
        "id": "-pCTiBep8mIp"
      },
      "outputs": [
        {
          "data": {
            "text/html": [
              "<div>\n",
              "<style scoped>\n",
              "    .dataframe tbody tr th:only-of-type {\n",
              "        vertical-align: middle;\n",
              "    }\n",
              "\n",
              "    .dataframe tbody tr th {\n",
              "        vertical-align: top;\n",
              "    }\n",
              "\n",
              "    .dataframe thead th {\n",
              "        text-align: right;\n",
              "    }\n",
              "</style>\n",
              "<table border=\"1\" class=\"dataframe\">\n",
              "  <thead>\n",
              "    <tr style=\"text-align: right;\">\n",
              "      <th></th>\n",
              "      <th>Open</th>\n",
              "      <th>High</th>\n",
              "      <th>Low</th>\n",
              "      <th>Adj Close</th>\n",
              "      <th>Volume</th>\n",
              "    </tr>\n",
              "    <tr>\n",
              "      <th>Date</th>\n",
              "      <th></th>\n",
              "      <th></th>\n",
              "      <th></th>\n",
              "      <th></th>\n",
              "      <th></th>\n",
              "    </tr>\n",
              "  </thead>\n",
              "  <tbody>\n",
              "    <tr>\n",
              "      <th>2014-09-17</th>\n",
              "      <td>465.864014</td>\n",
              "      <td>468.174011</td>\n",
              "      <td>452.421997</td>\n",
              "      <td>457.334015</td>\n",
              "      <td>21056800</td>\n",
              "    </tr>\n",
              "    <tr>\n",
              "      <th>2014-09-18</th>\n",
              "      <td>456.859985</td>\n",
              "      <td>456.859985</td>\n",
              "      <td>413.104004</td>\n",
              "      <td>424.440002</td>\n",
              "      <td>34483200</td>\n",
              "    </tr>\n",
              "    <tr>\n",
              "      <th>2014-09-19</th>\n",
              "      <td>424.102997</td>\n",
              "      <td>427.834991</td>\n",
              "      <td>384.532013</td>\n",
              "      <td>394.795990</td>\n",
              "      <td>37919700</td>\n",
              "    </tr>\n",
              "    <tr>\n",
              "      <th>2014-09-20</th>\n",
              "      <td>394.673004</td>\n",
              "      <td>423.295990</td>\n",
              "      <td>389.882996</td>\n",
              "      <td>408.903992</td>\n",
              "      <td>36863600</td>\n",
              "    </tr>\n",
              "    <tr>\n",
              "      <th>2014-09-21</th>\n",
              "      <td>408.084991</td>\n",
              "      <td>412.425995</td>\n",
              "      <td>393.181000</td>\n",
              "      <td>398.821014</td>\n",
              "      <td>26580100</td>\n",
              "    </tr>\n",
              "  </tbody>\n",
              "</table>\n",
              "</div>"
            ],
            "text/plain": [
              "                  Open        High         Low   Adj Close    Volume\n",
              "Date                                                                \n",
              "2014-09-17  465.864014  468.174011  452.421997  457.334015  21056800\n",
              "2014-09-18  456.859985  456.859985  413.104004  424.440002  34483200\n",
              "2014-09-19  424.102997  427.834991  384.532013  394.795990  37919700\n",
              "2014-09-20  394.673004  423.295990  389.882996  408.903992  36863600\n",
              "2014-09-21  408.084991  412.425995  393.181000  398.821014  26580100"
            ]
          },
          "execution_count": 2,
          "metadata": {},
          "output_type": "execute_result"
        }
      ],
      "source": [
        "# endpoint = 'https://min-api.cryptocompare.com/data/histoday'\n",
        "# res = requests.get(endpoint + '?fsym=BTC&tsym=USD&limit=1500')\n",
        "# hist = pd.DataFrame(json.loads(res.content)['Data'])\n",
        "# hist = hist.set_index('time')\n",
        "# hist.index = pd.to_datetime(hist.index, unit='s')\n",
        "# # colonne cible\n",
        "# target_col = 'close'\n",
        "# # maj API, suppression des 2 colonnes string\n",
        "# hist = hist.drop(['conversionType','conversionSymbol'], axis=1)\n",
        "\n",
        "# Importation des données du Bitcoin\n",
        "btc_hist_data = pd.read_csv(\"BTC-USD_complet.csv\", index_col=\"Date\")\n",
        "\n",
        "btc_hist_data.head()\n",
        "\n",
        "# Séparation du target avec les autres caractéristiques\n",
        "target_btc = btc_hist_data['Close']\n",
        "\n",
        "btc_hist = btc_hist_data.drop(['Close'], axis=1)\n",
        "\n",
        "target_column = \"Close\"\n",
        "\n",
        "btc_hist.head(5)\n",
        "\n",
        "\n",
        "\n"
      ]
    },
    {
      "cell_type": "code",
      "execution_count": 3,
      "metadata": {},
      "outputs": [
        {
          "data": {
            "text/plain": [
              "<bound method NDFrame.describe of                     Open          High           Low     Adj Close  \\\n",
              "Date                                                                 \n",
              "2014-09-17    465.864014    468.174011    452.421997    457.334015   \n",
              "2014-09-18    456.859985    456.859985    413.104004    424.440002   \n",
              "2014-09-19    424.102997    427.834991    384.532013    394.795990   \n",
              "2014-09-20    394.673004    423.295990    389.882996    408.903992   \n",
              "2014-09-21    408.084991    412.425995    393.181000    398.821014   \n",
              "...                  ...           ...           ...           ...   \n",
              "2024-01-15  41715.066406  43319.722656  41705.417969  42511.968750   \n",
              "2024-01-16  42499.335938  43566.273438  42085.996094  43154.945313   \n",
              "2024-01-17  43132.101563  43189.890625  42189.308594  42742.652344   \n",
              "2024-01-18  42742.312500  42876.347656  40631.171875  41262.058594   \n",
              "2024-01-19  41278.460938  41484.757813  40756.769531  40904.839844   \n",
              "\n",
              "                 Volume  \n",
              "Date                     \n",
              "2014-09-17     21056800  \n",
              "2014-09-18     34483200  \n",
              "2014-09-19     37919700  \n",
              "2014-09-20     36863600  \n",
              "2014-09-21     26580100  \n",
              "...                 ...  \n",
              "2024-01-15  22320220558  \n",
              "2024-01-16  24062872740  \n",
              "2024-01-17  20851232595  \n",
              "2024-01-18  25218357242  \n",
              "2024-01-19  27852990464  \n",
              "\n",
              "[3412 rows x 5 columns]>"
            ]
          },
          "execution_count": 3,
          "metadata": {},
          "output_type": "execute_result"
        }
      ],
      "source": [
        "btc_hist.describe"
      ]
    },
    {
      "cell_type": "code",
      "execution_count": 4,
      "metadata": {
        "colab": {
          "base_uri": "https://localhost:8080/",
          "height": 237
        },
        "id": "6xKdK2oy8swr",
        "outputId": "192bcd52-1b7a-4e14-8a92-7c8c2d1a905f"
      },
      "outputs": [
        {
          "name": "stdout",
          "output_type": "stream",
          "text": [
            "Open         1.473528e+04\n",
            "High         1.507954e+04\n",
            "Low          1.436420e+04\n",
            "Adj Close    1.474584e+04\n",
            "Volume       1.662758e+10\n",
            "dtype: float64\n",
            "Open         1.628894e+04\n",
            "High         1.667930e+04\n",
            "Low          1.585105e+04\n",
            "Adj Close    1.629038e+04\n",
            "Volume       1.907830e+10\n",
            "dtype: float64\n"
          ]
        }
      ],
      "source": [
        "print(btc_hist.mean())\n",
        "print(btc_hist.std())"
      ]
    },
    {
      "cell_type": "code",
      "execution_count": 42,
      "metadata": {
        "id": "BKp8SkJm8voc"
      },
      "outputs": [],
      "source": [
        "def t_t_split(df, test_size=0.2):\n",
        "    split_row = len(df) - int(test_size * len(df))\n",
        "    train_data = df.iloc[:split_row]\n",
        "    test_data = df.iloc[split_row:]\n",
        "    return train_data, test_data\n",
        "train, test = t_t_split(btc_hist_data, test_size=0.2)\n",
        "\n",
        "# Forcer le maintien de la division du datastet à chaquue exécution\n",
        "# seeds = 123\n",
        "# test_size=  0.2\n",
        "# # train et test split\n",
        "# btc_train, btc_test, target_train, target_test = train_test_split(\n",
        "#         btc_hist, target_btc,\n",
        "#         test_size=0.2,\n",
        "#         random_state=seeds\n",
        "#     )\n",
        "\n",
        "\n",
        "\n",
        "# # Train et test du datframe initial\n",
        "# def t_t_split(df, test_size, seeds):\n",
        "#     btc_train, btc_test,d,f = train_test_split(df,df, test_size=test_size, random_state=seeds)\n",
        "#     return btc_train, btc_test\n",
        "# train, test = t_t_split(btc_hist_data, test_size,seeds)\n"
      ]
    },
    {
      "cell_type": "code",
      "execution_count": 43,
      "metadata": {
        "colab": {
          "base_uri": "https://localhost:8080/",
          "height": 364
        },
        "id": "VtWMx9ZW8vsA",
        "outputId": "9e0561e7-0b62-47d4-ffd5-41f4c1f30f86"
      },
      "outputs": [
        {
          "data": {
            "image/png": "[encoded data removed]",
            "text/plain": [
              "<Figure size 1300x700 with 1 Axes>"
            ]
          },
          "metadata": {},
          "output_type": "display_data"
        }
      ],
      "source": [
        "def line_plot(line1, line2, label1=None, label2=None, title='', lw=2):\n",
        "    fig, ax = plt.subplots(1, figsize=(13, 7))\n",
        "    ax.plot(line1, label=label1, linewidth=lw)\n",
        "    ax.plot(line2, label=label2, linewidth=lw)\n",
        "    ax.set_ylabel('prix [USD]', fontsize=14)\n",
        "    ax.set_title(title, fontsize=16)\n",
        "    ax.legend(loc='best', fontsize=16)\n",
        "line_plot(train[target_column], test[target_column], 'training', 'test', title='')"
      ]
    },
    {
      "attachments": {},
      "cell_type": "markdown",
      "metadata": {},
      "source": []
    },
    {
      "cell_type": "code",
      "execution_count": 44,
      "metadata": {
        "id": "M9PIkpTl8vve"
      },
      "outputs": [],
      "source": [
        "def normaliser_zero_base(dataframe):\n",
        "    return dataframe / dataframe.iloc[0] - 1\n",
        "\n",
        "# Noramliser les données en utilisant le MinMax\n",
        "def normaliser_min_max(dataframe):\n",
        "    return (dataframe - dataframe.min()) / (dataframe.max() - dataframe.min())\n",
        "\n",
        "# Extraire des fenêtres de données de taille 5\n",
        "def extract_window_data(dataframe, window_lenght=5, zero_base=True):\n",
        "    window_data = []\n",
        "    for index in range(len(dataframe) - window_lenght):\n",
        "        temp_save = dataframe[index: (index + window_lenght)].copy()\n",
        "        if zero_base:\n",
        "            temp_save = normaliser_zero_base(temp_save)\n",
        "        window_data.append(temp_save.values)\n",
        "    return np.array(window_data)\n",
        "\n",
        "# # Noramlisation\n",
        "# scaler = StandardScaler()\n",
        "# btc_hist_normalised = scaler.fit_transform(btc_hist)\n",
        "\n",
        "# print(btc_hist_normalised.mean())\n",
        "# print(btc_hist_normalised.std())\n",
        "\n",
        "# btc_hist_normalised\n",
        "# ff = (btc_hist - btc_hist.mean())\n",
        "# tt = btc_hist.std()\n",
        "# ff = ff/tt\n",
        "# print(ff.head(5))\n",
        "# print(ff.mean())\n",
        "\n",
        "# # Noramlisation avec MinMaxScaler\n",
        "# min_max_scaler = MinMaxScaler()\n",
        "# btc_hist_min_max_norm = min_max_scaler.fit_transform(btc_hist)\n",
        "# print(btc_hist_min_max_norm)"
      ]
    },
    {
      "cell_type": "code",
      "execution_count": 45,
      "metadata": {
        "id": "KgJse-z98vye"
      },
      "outputs": [],
      "source": [
        "# La préparation des données \n",
        "\n",
        "# def prepare_data(btc_train, btc_test, target_train, target_test):\n",
        "def prepare_data(btc_hist, target_btc, target_column, window_len=10, zero_base=True):\n",
        "    train_data, test_data = btc_hist, target_btc\n",
        "    X_train = extract_window_data(train_data, window_len, zero_base)\n",
        "    X_test = extract_window_data(test_data, window_len, zero_base)\n",
        "    y_train = train_data[target_column][window_len:].values\n",
        "    y_test = test_data[target_column][window_len:].values\n",
        "    \n",
        "    if zero_base:\n",
        "        y_train = y_train / train_data[target_column][:-window_len].values - 1\n",
        "        y_test = y_test / test_data[target_column][:-window_len].values - 1\n",
        "    return train_data, test_data, X_train, X_test, y_train, y_test\n",
        "# return btc_train, btc_test, target_train, target_test"
      ]
    },
    {
      "cell_type": "code",
      "execution_count": 62,
      "metadata": {
        "id": "6x9rQFey8v4T"
      },
      "outputs": [],
      "source": [
        "#La construction du modèle en LSTM\n",
        "def lstm_model_building(input_data, output_size, neurons=300, activ_func='linear', dropout=0.2, loss='mse', optimizer='adam'):\n",
        "    model = Sequential()\n",
        "    model.add(LSTM(neurons, input_shape=(input_data.shape[1], input_data.shape[2])))\n",
        "    model.add(Dropout(dropout))\n",
        "    model.add(Dense(units=output_size))\n",
        "    model.add(Activation(activ_func))\n",
        "    model.compile(loss=loss, optimizer=optimizer)\n",
        "    return model\n",
        "\n",
        "# btc_train.shape[1]"
      ]
    },
    {
      "cell_type": "code",
      "execution_count": 63,
      "metadata": {
        "id": "yyPkNik-8v6P"
      },
      "outputs": [],
      "source": [
        "# Les informations desquelles nous nous servirions pour l'utilisation du modèle\n",
        "np.random.seed(123)\n",
        "window_len = 5\n",
        "test_size = 0.2\n",
        "zero_base = True\n",
        "lstm_neurons = 500\n",
        "epochs = 100\n",
        "batch_size = 32\n",
        "loss = 'mse'\n",
        "dropout = 0.2\n",
        "optimizer = 'adam'"
      ]
    },
    {
      "cell_type": "code",
      "execution_count": 64,
      "metadata": {
        "colab": {
          "base_uri": "https://localhost:8080/"
        },
        "id": "B9jxaZ8i8v70",
        "outputId": "2daf461a-c7c3-4f07-ca72-c1f00e1850ff"
      },
      "outputs": [
        {
          "name": "stdout",
          "output_type": "stream",
          "text": [
            "Epoch 1/100\n",
            "86/86 [==============================] - 7s 41ms/step - loss: 0.0031\n",
            "Epoch 2/100\n",
            "86/86 [==============================] - 4s 41ms/step - loss: 0.0018\n",
            "Epoch 3/100\n",
            "86/86 [==============================] - 4s 44ms/step - loss: 0.0017\n",
            "Epoch 4/100\n",
            "86/86 [==============================] - 4s 46ms/step - loss: 0.0016\n",
            "Epoch 5/100\n",
            "86/86 [==============================] - 4s 45ms/step - loss: 0.0016\n",
            "Epoch 6/100\n",
            "86/86 [==============================] - 4s 45ms/step - loss: 0.0016\n",
            "Epoch 7/100\n",
            "86/86 [==============================] - 4s 47ms/step - loss: 0.0016\n",
            "Epoch 8/100\n",
            "86/86 [==============================] - 4s 47ms/step - loss: 0.0016\n",
            "Epoch 9/100\n",
            "86/86 [==============================] - 5s 58ms/step - loss: 0.0016\n",
            "Epoch 10/100\n",
            "86/86 [==============================] - 4s 51ms/step - loss: 0.0016\n",
            "Epoch 11/100\n",
            "86/86 [==============================] - 4s 49ms/step - loss: 0.0016\n",
            "Epoch 12/100\n",
            "86/86 [==============================] - 4s 50ms/step - loss: 0.0016\n",
            "Epoch 13/100\n",
            "86/86 [==============================] - 4s 47ms/step - loss: 0.0016\n",
            "Epoch 14/100\n",
            "86/86 [==============================] - 4s 47ms/step - loss: 0.0016\n",
            "Epoch 15/100\n",
            "86/86 [==============================] - 4s 50ms/step - loss: 0.0016\n",
            "Epoch 16/100\n",
            "86/86 [==============================] - 4s 47ms/step - loss: 0.0016\n",
            "Epoch 17/100\n",
            "86/86 [==============================] - 4s 46ms/step - loss: 0.0016\n",
            "Epoch 18/100\n",
            "86/86 [==============================] - 4s 47ms/step - loss: 0.0016\n",
            "Epoch 19/100\n",
            "86/86 [==============================] - 4s 45ms/step - loss: 0.0016\n",
            "Epoch 20/100\n",
            "86/86 [==============================] - 4s 45ms/step - loss: 0.0016\n",
            "Epoch 21/100\n",
            "86/86 [==============================] - 4s 47ms/step - loss: 0.0016\n",
            "Epoch 22/100\n",
            "86/86 [==============================] - 4s 46ms/step - loss: 0.0016\n",
            "Epoch 23/100\n",
            "86/86 [==============================] - 4s 46ms/step - loss: 0.0016\n",
            "Epoch 24/100\n",
            "86/86 [==============================] - 4s 49ms/step - loss: 0.0016\n",
            "Epoch 25/100\n",
            "86/86 [==============================] - 4s 46ms/step - loss: 0.0016\n",
            "Epoch 26/100\n",
            "86/86 [==============================] - 4s 45ms/step - loss: 0.0016\n",
            "Epoch 27/100\n",
            "86/86 [==============================] - 4s 47ms/step - loss: 0.0016\n",
            "Epoch 28/100\n",
            "86/86 [==============================] - 4s 46ms/step - loss: 0.0016\n",
            "Epoch 29/100\n",
            "86/86 [==============================] - 4s 47ms/step - loss: 0.0016\n",
            "Epoch 30/100\n",
            "86/86 [==============================] - 4s 45ms/step - loss: 0.0016\n",
            "Epoch 31/100\n",
            "86/86 [==============================] - 4s 52ms/step - loss: 0.0016\n",
            "Epoch 32/100\n",
            "86/86 [==============================] - 4s 45ms/step - loss: 0.0016\n",
            "Epoch 33/100\n",
            "86/86 [==============================] - 3s 39ms/step - loss: 0.0016\n",
            "Epoch 34/100\n",
            "86/86 [==============================] - 4s 46ms/step - loss: 0.0016\n",
            "Epoch 35/100\n",
            "86/86 [==============================] - 4s 42ms/step - loss: 0.0016\n",
            "Epoch 36/100\n",
            "86/86 [==============================] - 3s 39ms/step - loss: 0.0016\n",
            "Epoch 37/100\n",
            "86/86 [==============================] - 3s 38ms/step - loss: 0.0016\n",
            "Epoch 38/100\n",
            "86/86 [==============================] - 3s 38ms/step - loss: 0.0016\n",
            "Epoch 39/100\n",
            "86/86 [==============================] - 4s 41ms/step - loss: 0.0016\n",
            "Epoch 40/100\n",
            "86/86 [==============================] - 3s 40ms/step - loss: 0.0016\n",
            "Epoch 41/100\n",
            "86/86 [==============================] - 4s 41ms/step - loss: 0.0016\n",
            "Epoch 42/100\n",
            "86/86 [==============================] - 4s 44ms/step - loss: 0.0016\n",
            "Epoch 43/100\n",
            "86/86 [==============================] - 5s 59ms/step - loss: 0.0016\n",
            "Epoch 44/100\n",
            "86/86 [==============================] - 5s 54ms/step - loss: 0.0015\n",
            "Epoch 45/100\n",
            "86/86 [==============================] - 4s 51ms/step - loss: 0.0016\n",
            "Epoch 46/100\n",
            "86/86 [==============================] - 4s 51ms/step - loss: 0.0016\n",
            "Epoch 47/100\n",
            "86/86 [==============================] - 4s 50ms/step - loss: 0.0016\n",
            "Epoch 48/100\n",
            "86/86 [==============================] - 4s 51ms/step - loss: 0.0015\n",
            "Epoch 49/100\n",
            "86/86 [==============================] - 4s 49ms/step - loss: 0.0016\n",
            "Epoch 50/100\n",
            "86/86 [==============================] - 4s 50ms/step - loss: 0.0016\n",
            "Epoch 51/100\n",
            "86/86 [==============================] - 4s 48ms/step - loss: 0.0016\n",
            "Epoch 52/100\n",
            "86/86 [==============================] - 4s 48ms/step - loss: 0.0016\n",
            "Epoch 53/100\n",
            "86/86 [==============================] - 4s 50ms/step - loss: 0.0016\n",
            "Epoch 54/100\n",
            "86/86 [==============================] - 4s 47ms/step - loss: 0.0016\n",
            "Epoch 55/100\n",
            "86/86 [==============================] - 4s 49ms/step - loss: 0.0015\n",
            "Epoch 56/100\n",
            "86/86 [==============================] - 4s 47ms/step - loss: 0.0016\n",
            "Epoch 57/100\n",
            "86/86 [==============================] - 4s 47ms/step - loss: 0.0016\n",
            "Epoch 58/100\n",
            "86/86 [==============================] - 4s 48ms/step - loss: 0.0016\n",
            "Epoch 59/100\n",
            "86/86 [==============================] - 4s 46ms/step - loss: 0.0015\n",
            "Epoch 60/100\n",
            "86/86 [==============================] - 4s 49ms/step - loss: 0.0016\n",
            "Epoch 61/100\n",
            "86/86 [==============================] - 5s 53ms/step - loss: 0.0016\n",
            "Epoch 62/100\n",
            "86/86 [==============================] - 4s 52ms/step - loss: 0.0015\n",
            "Epoch 63/100\n",
            "86/86 [==============================] - 4s 50ms/step - loss: 0.0016\n",
            "Epoch 64/100\n",
            "86/86 [==============================] - 4s 51ms/step - loss: 0.0016\n",
            "Epoch 65/100\n",
            "86/86 [==============================] - 4s 50ms/step - loss: 0.0015\n",
            "Epoch 66/100\n",
            "86/86 [==============================] - 4s 49ms/step - loss: 0.0016\n",
            "Epoch 67/100\n",
            "86/86 [==============================] - 4s 49ms/step - loss: 0.0016\n",
            "Epoch 68/100\n",
            "86/86 [==============================] - 4s 50ms/step - loss: 0.0015\n",
            "Epoch 69/100\n",
            "86/86 [==============================] - 4s 49ms/step - loss: 0.0015\n",
            "Epoch 70/100\n",
            "86/86 [==============================] - 4s 48ms/step - loss: 0.0016\n",
            "Epoch 71/100\n",
            "86/86 [==============================] - 4s 48ms/step - loss: 0.0016\n",
            "Epoch 72/100\n",
            "86/86 [==============================] - 4s 46ms/step - loss: 0.0016\n",
            "Epoch 73/100\n",
            "86/86 [==============================] - 4s 47ms/step - loss: 0.0016\n",
            "Epoch 74/100\n",
            "86/86 [==============================] - 4s 49ms/step - loss: 0.0015\n",
            "Epoch 75/100\n",
            "86/86 [==============================] - 4s 51ms/step - loss: 0.0016\n",
            "Epoch 76/100\n",
            "86/86 [==============================] - 4s 51ms/step - loss: 0.0015\n",
            "Epoch 77/100\n",
            "86/86 [==============================] - 4s 50ms/step - loss: 0.0016\n",
            "Epoch 78/100\n",
            "86/86 [==============================] - 4s 51ms/step - loss: 0.0015\n",
            "Epoch 79/100\n",
            "86/86 [==============================] - 4s 51ms/step - loss: 0.0016\n",
            "Epoch 80/100\n",
            "86/86 [==============================] - 5s 52ms/step - loss: 0.0015\n",
            "Epoch 81/100\n",
            "86/86 [==============================] - 4s 51ms/step - loss: 0.0016\n",
            "Epoch 82/100\n",
            "86/86 [==============================] - 4s 51ms/step - loss: 0.0016\n",
            "Epoch 83/100\n",
            "86/86 [==============================] - 4s 48ms/step - loss: 0.0015\n",
            "Epoch 84/100\n",
            "86/86 [==============================] - 4s 50ms/step - loss: 0.0016\n",
            "Epoch 85/100\n",
            "86/86 [==============================] - 4s 47ms/step - loss: 0.0016\n",
            "Epoch 86/100\n",
            "86/86 [==============================] - 4s 48ms/step - loss: 0.0016\n",
            "Epoch 87/100\n",
            "86/86 [==============================] - 4s 47ms/step - loss: 0.0015\n",
            "Epoch 88/100\n",
            "86/86 [==============================] - 4s 49ms/step - loss: 0.0016\n",
            "Epoch 89/100\n",
            "86/86 [==============================] - 4s 47ms/step - loss: 0.0015\n",
            "Epoch 90/100\n",
            "86/86 [==============================] - 4s 49ms/step - loss: 0.0015\n",
            "Epoch 91/100\n",
            "86/86 [==============================] - 4s 47ms/step - loss: 0.0015\n",
            "Epoch 92/100\n",
            "86/86 [==============================] - 4s 47ms/step - loss: 0.0015\n",
            "Epoch 93/100\n",
            "86/86 [==============================] - 4s 49ms/step - loss: 0.0015\n",
            "Epoch 94/100\n",
            "86/86 [==============================] - 4s 47ms/step - loss: 0.0016\n",
            "Epoch 95/100\n",
            "86/86 [==============================] - 4s 52ms/step - loss: 0.0015\n",
            "Epoch 96/100\n",
            "86/86 [==============================] - 4s 52ms/step - loss: 0.0015\n",
            "Epoch 97/100\n",
            "86/86 [==============================] - 4s 51ms/step - loss: 0.0015\n",
            "Epoch 98/100\n",
            "86/86 [==============================] - 5s 53ms/step - loss: 0.0016\n",
            "Epoch 99/100\n",
            "86/86 [==============================] - 4s 50ms/step - loss: 0.0015\n",
            "Epoch 100/100\n",
            "86/86 [==============================] - 4s 52ms/step - loss: 0.0016\n"
          ]
        }
      ],
      "source": [
        "train_data, test_data, X_train, X_test, y_train, y_test = prepare_data(train, test, target_column, window_len=window_len, zero_base=True)\n",
        "model = lstm_model_building(\n",
        "    X_train, output_size=1, neurons=lstm_neurons, dropout=dropout, loss=loss,\n",
        "    optimizer=optimizer)\n",
        "btc_history = model.fit(\n",
        "    X_train, y_train, epochs=epochs, batch_size=batch_size, verbose=1, shuffle=True)"
      ]
    },
    {
      "cell_type": "code",
      "execution_count": 4,
      "metadata": {
        "colab": {
          "base_uri": "https://localhost:8080/"
        },
        "id": "nshqrXqM8v-o",
        "outputId": "57bbf223-9ec1-407e-a159-686e74b921fc"
      },
      "outputs": [
        {
          "ename": "NameError",
          "evalue": "name 'test' is not defined",
          "output_type": "error",
          "traceback": [
            "\u001b[1;31m---------------------------------------------------------------------------\u001b[0m",
            "\u001b[1;31mNameError\u001b[0m                                 Traceback (most recent call last)",
            "Cell \u001b[1;32mIn[4], line 1\u001b[0m\n\u001b[1;32m----> 1\u001b[0m targets \u001b[39m=\u001b[39m test[target_column][window_len:]\n\u001b[0;32m      2\u001b[0m preds \u001b[39m=\u001b[39m model\u001b[39m.\u001b[39mpredict(X_test)\u001b[39m.\u001b[39msqueeze()\n\u001b[0;32m      3\u001b[0m \u001b[39mprint\u001b[39m(\u001b[39m\"\u001b[39m\u001b[39mMoyenne de l\u001b[39m\u001b[39m'\u001b[39m\u001b[39merrreur absolue\u001b[39m\u001b[39m\"\u001b[39m, mean_absolute_error(preds, y_test))\n",
            "\u001b[1;31mNameError\u001b[0m: name 'test' is not defined"
          ]
        }
      ],
      "source": [
        "targets = test[target_column][window_len:]\n",
        "preds = model.predict(X_test).squeeze()\n",
        "print(\"Moyenne de l'errreur absolue\", mean_absolute_error(preds, y_test))\n"
      ]
    },
    {
      "cell_type": "code",
      "execution_count": 66,
      "metadata": {
        "colab": {
          "base_uri": "https://localhost:8080/",
          "height": 364
        },
        "id": "8B7E0Zqd8wBQ",
        "outputId": "17bfbcf8-88be-49a2-a28c-165e209c213b"
      },
      "outputs": [
        {
          "data": {
            "image/png": "[encoded data removed]",
            "text/plain": [
              "<Figure size 1300x700 with 1 Axes>"
            ]
          },
          "metadata": {},
          "output_type": "display_data"
        }
      ],
      "source": [
        "preds = test[target_column].values[:-window_len] * (preds + 1)\n",
        "preds = pd.Series(index=targets.index, data=preds)\n",
        "line_plot(targets, preds, 'Valeurs actuelles', 'prediction', lw=3)"
      ]
    },
    {
      "cell_type": "code",
      "execution_count": 52,
      "metadata": {
        "colab": {
          "base_uri": "https://localhost:8080/"
        },
        "id": "DedW8RHE8wC6",
        "outputId": "5e56d401-636d-4af5-cc8b-efd58ee3239e"
      },
      "outputs": [
        {
          "data": {
            "text/plain": [
              "Index(['2022-03-14', '2022-03-15', '2022-03-16', '2022-03-17', '2022-03-18',\n",
              "       '2022-03-19', '2022-03-20', '2022-03-21', '2022-03-22', '2022-03-23',\n",
              "       ...\n",
              "       '2024-01-10', '2024-01-11', '2024-01-12', '2024-01-13', '2024-01-14',\n",
              "       '2024-01-15', '2024-01-16', '2024-01-17', '2024-01-18', '2024-01-19'],\n",
              "      dtype='object', name='Date', length=677)"
            ]
          },
          "execution_count": 52,
          "metadata": {},
          "output_type": "execute_result"
        }
      ],
      "source": [
        "preds.index"
      ]
    },
    {
      "cell_type": "code",
      "execution_count": 67,
      "metadata": {
        "colab": {
          "base_uri": "https://localhost:8080/"
        },
        "id": "U863YfQ28wJ4",
        "outputId": "c94edcf4-08cb-4778-9843-75923eb6b832"
      },
      "outputs": [
        {
          "name": "stdout",
          "output_type": "stream",
          "text": [
            "            Valeurs exactes  Valeurs prédites\n",
            "Date                                         \n",
            "2022-03-14     39666.753906      38029.324671\n",
            "2022-03-15     39338.785156      39783.294128\n",
            "2022-03-16     41143.929688      39618.760356\n",
            "2022-03-17     40951.378906      41899.227269\n",
            "2022-03-18     41801.156250      41024.388127\n",
            "...                     ...               ...\n",
            "2024-01-15     42511.968750      41982.104672\n",
            "2024-01-16     43154.945313      42528.143502\n",
            "2024-01-17     42742.652344      43316.365492\n",
            "2024-01-18     41262.058594      43092.707605\n",
            "2024-01-19     40904.839844      41799.866899\n",
            "\n",
            "[677 rows x 2 columns]\n"
          ]
        }
      ],
      "source": [
        "# Créez un DataFrame avec ces deux séries en tant que colonnes\n",
        "data = {'Valeurs exactes': targets, 'Valeurs prédites': preds}\n",
        "compare = pd.DataFrame(data)\n",
        "\n",
        "# Affichez le DataFrame\n",
        "print(compare)"
      ]
    },
    {
      "cell_type": "code",
      "execution_count": 68,
      "metadata": {
        "colab": {
          "base_uri": "https://localhost:8080/",
          "height": 394
        },
        "id": "Ky4-wFSMG8Qi",
        "outputId": "fa5b464b-47e2-4f3b-9227-d0f4a7989606"
      },
      "outputs": [
        {
          "data": {
            "text/html": [
              "<div>\n",
              "<style scoped>\n",
              "    .dataframe tbody tr th:only-of-type {\n",
              "        vertical-align: middle;\n",
              "    }\n",
              "\n",
              "    .dataframe tbody tr th {\n",
              "        vertical-align: top;\n",
              "    }\n",
              "\n",
              "    .dataframe thead th {\n",
              "        text-align: right;\n",
              "    }\n",
              "</style>\n",
              "<table border=\"1\" class=\"dataframe\">\n",
              "  <thead>\n",
              "    <tr style=\"text-align: right;\">\n",
              "      <th></th>\n",
              "      <th>Valeurs exactes</th>\n",
              "      <th>Valeurs prédites</th>\n",
              "    </tr>\n",
              "    <tr>\n",
              "      <th>Date</th>\n",
              "      <th></th>\n",
              "      <th></th>\n",
              "    </tr>\n",
              "  </thead>\n",
              "  <tbody>\n",
              "    <tr>\n",
              "      <th>2022-03-14</th>\n",
              "      <td>39666.753906</td>\n",
              "      <td>38029.324671</td>\n",
              "    </tr>\n",
              "    <tr>\n",
              "      <th>2022-03-15</th>\n",
              "      <td>39338.785156</td>\n",
              "      <td>39783.294128</td>\n",
              "    </tr>\n",
              "    <tr>\n",
              "      <th>2022-03-16</th>\n",
              "      <td>41143.929688</td>\n",
              "      <td>39618.760356</td>\n",
              "    </tr>\n",
              "    <tr>\n",
              "      <th>2022-03-17</th>\n",
              "      <td>40951.378906</td>\n",
              "      <td>41899.227269</td>\n",
              "    </tr>\n",
              "    <tr>\n",
              "      <th>2022-03-18</th>\n",
              "      <td>41801.156250</td>\n",
              "      <td>41024.388127</td>\n",
              "    </tr>\n",
              "    <tr>\n",
              "      <th>2022-03-19</th>\n",
              "      <td>42190.652344</td>\n",
              "      <td>42407.788958</td>\n",
              "    </tr>\n",
              "    <tr>\n",
              "      <th>2022-03-20</th>\n",
              "      <td>41247.824219</td>\n",
              "      <td>42350.178809</td>\n",
              "    </tr>\n",
              "    <tr>\n",
              "      <th>2022-03-21</th>\n",
              "      <td>41077.996094</td>\n",
              "      <td>41500.538519</td>\n",
              "    </tr>\n",
              "    <tr>\n",
              "      <th>2022-03-22</th>\n",
              "      <td>42358.808594</td>\n",
              "      <td>41416.783859</td>\n",
              "    </tr>\n",
              "    <tr>\n",
              "      <th>2022-03-23</th>\n",
              "      <td>42892.957031</td>\n",
              "      <td>42663.613850</td>\n",
              "    </tr>\n",
              "  </tbody>\n",
              "</table>\n",
              "</div>"
            ],
            "text/plain": [
              "            Valeurs exactes  Valeurs prédites\n",
              "Date                                         \n",
              "2022-03-14     39666.753906      38029.324671\n",
              "2022-03-15     39338.785156      39783.294128\n",
              "2022-03-16     41143.929688      39618.760356\n",
              "2022-03-17     40951.378906      41899.227269\n",
              "2022-03-18     41801.156250      41024.388127\n",
              "2022-03-19     42190.652344      42407.788958\n",
              "2022-03-20     41247.824219      42350.178809\n",
              "2022-03-21     41077.996094      41500.538519\n",
              "2022-03-22     42358.808594      41416.783859\n",
              "2022-03-23     42892.957031      42663.613850"
            ]
          },
          "execution_count": 68,
          "metadata": {},
          "output_type": "execute_result"
        }
      ],
      "source": [
        "compare.head(10)"
      ]
    },
    {
      "cell_type": "code",
      "execution_count": 69,
      "metadata": {
        "colab": {
          "base_uri": "https://localhost:8080/"
        },
        "id": "2qOzwRU-HhX4",
        "outputId": "a4d8da15-18f3-4e0d-98ea-0d5c46c648be"
      },
      "outputs": [
        {
          "data": {
            "text/html": [
              "<div>\n",
              "<style scoped>\n",
              "    .dataframe tbody tr th:only-of-type {\n",
              "        vertical-align: middle;\n",
              "    }\n",
              "\n",
              "    .dataframe tbody tr th {\n",
              "        vertical-align: top;\n",
              "    }\n",
              "\n",
              "    .dataframe thead th {\n",
              "        text-align: right;\n",
              "    }\n",
              "</style>\n",
              "<table border=\"1\" class=\"dataframe\">\n",
              "  <thead>\n",
              "    <tr style=\"text-align: right;\">\n",
              "      <th></th>\n",
              "      <th>Valeurs exactes</th>\n",
              "      <th>Valeurs prédites</th>\n",
              "    </tr>\n",
              "  </thead>\n",
              "  <tbody>\n",
              "    <tr>\n",
              "      <th>count</th>\n",
              "      <td>677.000000</td>\n",
              "      <td>677.000000</td>\n",
              "    </tr>\n",
              "    <tr>\n",
              "      <th>mean</th>\n",
              "      <td>27652.763210</td>\n",
              "      <td>27876.117747</td>\n",
              "    </tr>\n",
              "    <tr>\n",
              "      <th>std</th>\n",
              "      <td>7988.024188</td>\n",
              "      <td>8043.994387</td>\n",
              "    </tr>\n",
              "    <tr>\n",
              "      <th>min</th>\n",
              "      <td>15787.284180</td>\n",
              "      <td>15970.607101</td>\n",
              "    </tr>\n",
              "    <tr>\n",
              "      <th>25%</th>\n",
              "      <td>21147.230469</td>\n",
              "      <td>21245.978332</td>\n",
              "    </tr>\n",
              "    <tr>\n",
              "      <th>50%</th>\n",
              "      <td>26851.029297</td>\n",
              "      <td>27044.465346</td>\n",
              "    </tr>\n",
              "    <tr>\n",
              "      <th>75%</th>\n",
              "      <td>30397.552734</td>\n",
              "      <td>30594.341393</td>\n",
              "    </tr>\n",
              "    <tr>\n",
              "      <th>max</th>\n",
              "      <td>47465.730469</td>\n",
              "      <td>47746.528533</td>\n",
              "    </tr>\n",
              "  </tbody>\n",
              "</table>\n",
              "</div>"
            ],
            "text/plain": [
              "       Valeurs exactes  Valeurs prédites\n",
              "count       677.000000        677.000000\n",
              "mean      27652.763210      27876.117747\n",
              "std        7988.024188       8043.994387\n",
              "min       15787.284180      15970.607101\n",
              "25%       21147.230469      21245.978332\n",
              "50%       26851.029297      27044.465346\n",
              "75%       30397.552734      30594.341393\n",
              "max       47465.730469      47746.528533"
            ]
          },
          "execution_count": 69,
          "metadata": {},
          "output_type": "execute_result"
        }
      ],
      "source": [
        "compare.describe()"
      ]
    },
    {
      "cell_type": "code",
      "execution_count": 3,
      "metadata": {
        "id": "_h-ZImITHgf2"
      },
      "outputs": [
        {
          "ename": "UnboundLocalError",
          "evalue": "cannot access local variable 'targets' where it is not associated with a value",
          "output_type": "error",
          "traceback": [
            "\u001b[1;31m---------------------------------------------------------------------------\u001b[0m",
            "\u001b[1;31mUnboundLocalError\u001b[0m                         Traceback (most recent call last)",
            "Cell \u001b[1;32mIn[3], line 12\u001b[0m\n\u001b[0;32m      9\u001b[0m \u001b[39mdef\u001b[39;00m \u001b[39mbtc_data\u001b[39m():\n\u001b[0;32m     10\u001b[0m     \u001b[39mreturn\u001b[39;00m btc_hist_data\n\u001b[1;32m---> 12\u001b[0m predict_data \u001b[39m=\u001b[39m predict_data()\n\u001b[0;32m     13\u001b[0m btc_data \u001b[39m=\u001b[39m btc_data()\n",
            "Cell \u001b[1;32mIn[3], line 2\u001b[0m, in \u001b[0;36mpredict_data\u001b[1;34m()\u001b[0m\n\u001b[0;32m      1\u001b[0m \u001b[39mdef\u001b[39;00m \u001b[39mpredict_data\u001b[39m():\n\u001b[1;32m----> 2\u001b[0m     targets \u001b[39m=\u001b[39m targets\n\u001b[0;32m      3\u001b[0m     preds \u001b[39m=\u001b[39m preds\n\u001b[0;32m      5\u001b[0m     preds \u001b[39m=\u001b[39m test[target_column]\u001b[39m.\u001b[39mvalues[:\u001b[39m-\u001b[39mwindow_len] \u001b[39m*\u001b[39m (preds \u001b[39m+\u001b[39m \u001b[39m1\u001b[39m)\n",
            "\u001b[1;31mUnboundLocalError\u001b[0m: cannot access local variable 'targets' where it is not associated with a value"
          ]
        }
      ],
      "source": [
        "def predict_data():\n",
        "    targets = targets\n",
        "    preds = preds\n",
        "    \n",
        "    preds = test[target_column].values[:-window_len] * (preds + 1)\n",
        "    preds = pd.Series(index=targets.index, data=preds)\n",
        "    return preds\n",
        "\n",
        "def btc_data():\n",
        "    return btc_hist_data\n",
        "   \n",
        "predict_data = predict_data()\n",
        "btc_data = btc_data()"
      ]
    },
    {
      "attachments": {},
      "cell_type": "markdown",
      "metadata": {},
      "source": [
        "## L'utilisation de la validation\n"
      ]
    },
    {
      "cell_type": "code",
      "execution_count": null,
      "metadata": {},
      "outputs": [],
      "source": []
    },
    {
      "cell_type": "code",
      "execution_count": 76,
      "metadata": {},
      "outputs": [
        {
          "data": {
            "text/plain": [
              "['crypto_course.joblib']"
            ]
          },
          "execution_count": 76,
          "metadata": {},
          "output_type": "execute_result"
        }
      ],
      "source": [
        "# Enregistrer le modèle de machine learning\n",
        "import joblib\n",
        "crypto_predict = model\n",
        "joblib.dump(crypto_predict, \"crypto_course.joblib\")"
      ]
    },
    {
      "cell_type": "code",
      "execution_count": null,
      "metadata": {},
      "outputs": [],
      "source": []
    },
    {
      "cell_type": "code",
      "execution_count": 2,
      "metadata": {},
      "outputs": [
        {
          "ename": "NameError",
          "evalue": "name 'joblib' is not defined",
          "output_type": "error",
          "traceback": [
            "\u001b[1;31m---------------------------------------------------------------------------\u001b[0m",
            "\u001b[1;31mNameError\u001b[0m                                 Traceback (most recent call last)",
            "Cell \u001b[1;32mIn[2], line 1\u001b[0m\n\u001b[1;32m----> 1\u001b[0m joblib\u001b[39m.\u001b[39mdump(predict_data, \u001b[39m\"\u001b[39m\u001b[39mprediction.joblib\u001b[39m\u001b[39m\"\u001b[39m)\n\u001b[0;32m      2\u001b[0m joblib\u001b[39m.\u001b[39mdump(btc_data, \u001b[39m\"\u001b[39m\u001b[39mbtc_dataset.joblib\u001b[39m\u001b[39m\"\u001b[39m)\n",
            "\u001b[1;31mNameError\u001b[0m: name 'joblib' is not defined"
          ]
        }
      ],
      "source": [
        "joblib.dump(predict_data, \"prediction.joblib\")\n",
        "joblib.dump(btc_data, \"btc_dataset.joblib\")"
      ]
    },
    {
      "cell_type": "code",
      "execution_count": null,
      "metadata": {},
      "outputs": [],
      "source": []
    },
    {
      "cell_type": "code",
      "execution_count": null,
      "metadata": {},
      "outputs": [],
      "source": []
    }
  ],
  "metadata": {
    "colab": {
      "provenance": []
    },
    "kernelspec": {
      "display_name": "Python 3",
      "name": "python3"
    },
    "language_info": {
      "codemirror_mode": {
        "name": "ipython",
        "version": 3
      },
      "file_extension": ".py",
      "mimetype": "text/x-python",
      "name": "python",
      "nbconvert_exporter": "python",
      "pygments_lexer": "ipython3",
      "version": "3.11.0"
    }
  },
  "nbformat": 4,
  "nbformat_minor": 0
}
